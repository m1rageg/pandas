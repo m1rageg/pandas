{
 "cells": [
  {
   "cell_type": "code",
   "execution_count": 1,
   "id": "15b54ba4",
   "metadata": {},
   "outputs": [],
   "source": [
    "import pandas as pd"
   ]
  },
  {
   "cell_type": "code",
   "execution_count": 3,
   "id": "d9683931",
   "metadata": {},
   "outputs": [],
   "source": [
    "df = pd.read_csv('staff.csv')   "
   ]
  },
  {
   "cell_type": "code",
   "execution_count": 5,
   "id": "750efaaf",
   "metadata": {},
   "outputs": [],
   "source": [
    "df_2 = df[~(df['salary'] < 0) & ~(df[\"job_title\"] == None)]"
   ]
  },
  {
   "cell_type": "code",
   "execution_count": 11,
   "id": "3f2ac361",
   "metadata": {},
   "outputs": [],
   "source": [
    "average_salary = df_2['salary'].mean()"
   ]
  },
  {
   "cell_type": "code",
   "execution_count": 12,
   "id": "1d2741cd",
   "metadata": {
    "scrolled": true
   },
   "outputs": [
    {
     "name": "stdout",
     "output_type": "stream",
     "text": [
      "2760.7323943661972\n"
     ]
    }
   ],
   "source": [
    "print(average_salary)"
   ]
  },
  {
   "cell_type": "code",
   "execution_count": 13,
   "id": "c2ed3464",
   "metadata": {},
   "outputs": [],
   "source": [
    "max_age = df_2['age'].max()"
   ]
  },
  {
   "cell_type": "code",
   "execution_count": 14,
   "id": "e7bd4331",
   "metadata": {},
   "outputs": [
    {
     "name": "stdout",
     "output_type": "stream",
     "text": [
      "60\n"
     ]
    }
   ],
   "source": [
    "print(max_age)"
   ]
  },
  {
   "cell_type": "code",
   "execution_count": 18,
   "id": "89cebafd",
   "metadata": {},
   "outputs": [],
   "source": [
    "pivot_table = pd.pivot_table(df_2, values='salary', index='job_title', columns='age', aggfunc='mean')"
   ]
  },
  {
   "cell_type": "code",
   "execution_count": 19,
   "id": "3afc0d1c",
   "metadata": {},
   "outputs": [
    {
     "name": "stdout",
     "output_type": "stream",
     "text": [
      "age                                               21      22      24      25  \\\n",
      "job_title                                                                      \n",
      "Accommodation manager                            NaN     NaN     NaN     NaN   \n",
      "Administrator, charities/voluntary organisations NaN     NaN     NaN     NaN   \n",
      "Adult nurse                                      NaN  2544.0     NaN     NaN   \n",
      "Barrister                                        NaN     NaN     NaN     NaN   \n",
      "Best boy                                         NaN     NaN     NaN     NaN   \n",
      "...                                               ..     ...     ...     ...   \n",
      "Telecommunications researcher                    NaN     NaN     NaN  3528.0   \n",
      "Trade union research officer                     NaN     NaN  3730.0     NaN   \n",
      "Video editor                                     NaN     NaN     NaN     NaN   \n",
      "Warden/ranger                                    NaN     NaN     NaN     NaN   \n",
      "Water quality scientist                          NaN     NaN     NaN     NaN   \n",
      "\n",
      "age                                               29  30  31  32      33  34  \\\n",
      "job_title                                                                      \n",
      "Accommodation manager                            NaN NaN NaN NaN     NaN NaN   \n",
      "Administrator, charities/voluntary organisations NaN NaN NaN NaN     NaN NaN   \n",
      "Adult nurse                                      NaN NaN NaN NaN     NaN NaN   \n",
      "Barrister                                        NaN NaN NaN NaN     NaN NaN   \n",
      "Best boy                                         NaN NaN NaN NaN     NaN NaN   \n",
      "...                                               ..  ..  ..  ..     ...  ..   \n",
      "Telecommunications researcher                    NaN NaN NaN NaN     NaN NaN   \n",
      "Trade union research officer                     NaN NaN NaN NaN     NaN NaN   \n",
      "Video editor                                     NaN NaN NaN NaN     NaN NaN   \n",
      "Warden/ranger                                    NaN NaN NaN NaN     NaN NaN   \n",
      "Water quality scientist                          NaN NaN NaN NaN  4950.0 NaN   \n",
      "\n",
      "age                                               ...  50      52  53  54  55  \\\n",
      "job_title                                         ...                           \n",
      "Accommodation manager                             ... NaN     NaN NaN NaN NaN   \n",
      "Administrator, charities/voluntary organisations  ... NaN  1580.0 NaN NaN NaN   \n",
      "Adult nurse                                       ... NaN     NaN NaN NaN NaN   \n",
      "Barrister                                         ... NaN     NaN NaN NaN NaN   \n",
      "Best boy                                          ... NaN     NaN NaN NaN NaN   \n",
      "...                                               ...  ..     ...  ..  ..  ..   \n",
      "Telecommunications researcher                     ... NaN     NaN NaN NaN NaN   \n",
      "Trade union research officer                      ... NaN     NaN NaN NaN NaN   \n",
      "Video editor                                      ... NaN     NaN NaN NaN NaN   \n",
      "Warden/ranger                                     ... NaN     NaN NaN NaN NaN   \n",
      "Water quality scientist                           ... NaN     NaN NaN NaN NaN   \n",
      "\n",
      "age                                               56  57  58  59  60  \n",
      "job_title                                                             \n",
      "Accommodation manager                            NaN NaN NaN NaN NaN  \n",
      "Administrator, charities/voluntary organisations NaN NaN NaN NaN NaN  \n",
      "Adult nurse                                      NaN NaN NaN NaN NaN  \n",
      "Barrister                                        NaN NaN NaN NaN NaN  \n",
      "Best boy                                         NaN NaN NaN NaN NaN  \n",
      "...                                               ..  ..  ..  ..  ..  \n",
      "Telecommunications researcher                    NaN NaN NaN NaN NaN  \n",
      "Trade union research officer                     NaN NaN NaN NaN NaN  \n",
      "Video editor                                     NaN NaN NaN NaN NaN  \n",
      "Warden/ranger                                    NaN NaN NaN NaN NaN  \n",
      "Water quality scientist                          NaN NaN NaN NaN NaN  \n",
      "\n",
      "[68 rows x 33 columns]\n"
     ]
    }
   ],
   "source": [
    "print(pivot_table)"
   ]
  },
  {
   "cell_type": "code",
   "execution_count": 3,
   "id": "2035414c",
   "metadata": {},
   "outputs": [
    {
     "ename": "NameError",
     "evalue": "name 'df_2' is not defined",
     "output_type": "error",
     "traceback": [
      "\u001b[1;31m---------------------------------------------------------------------------\u001b[0m",
      "\u001b[1;31mNameError\u001b[0m                                 Traceback (most recent call last)",
      "Cell \u001b[1;32mIn[3], line 2\u001b[0m\n\u001b[0;32m      1\u001b[0m \u001b[38;5;28;01mimport\u001b[39;00m \u001b[38;5;21;01mmatplotlib\u001b[39;00m\u001b[38;5;21;01m.\u001b[39;00m\u001b[38;5;21;01mpyplot\u001b[39;00m \u001b[38;5;28;01mas\u001b[39;00m \u001b[38;5;21;01mplt\u001b[39;00m\n\u001b[1;32m----> 2\u001b[0m plt\u001b[38;5;241m.\u001b[39mplot(\u001b[43mdf_2\u001b[49m[\u001b[38;5;124m'\u001b[39m\u001b[38;5;124mage\u001b[39m\u001b[38;5;124m'\u001b[39m], df_2[\u001b[38;5;124m'\u001b[39m\u001b[38;5;124msalary\u001b[39m\u001b[38;5;124m'\u001b[39m], \u001b[38;5;124m'\u001b[39m\u001b[38;5;124mo-\u001b[39m\u001b[38;5;124m'\u001b[39m)\n\u001b[0;32m      4\u001b[0m plt\u001b[38;5;241m.\u001b[39mxlabel(\u001b[38;5;124m'\u001b[39m\u001b[38;5;124mage\u001b[39m\u001b[38;5;124m'\u001b[39m)\n\u001b[0;32m      5\u001b[0m plt\u001b[38;5;241m.\u001b[39mylabel(\u001b[38;5;124m'\u001b[39m\u001b[38;5;124msalary\u001b[39m\u001b[38;5;124m'\u001b[39m)\n",
      "\u001b[1;31mNameError\u001b[0m: name 'df_2' is not defined"
     ]
    }
   ],
   "source": [
    "import matplotlib.pyplot as plt\n",
    "plt.plot(df_2['age'], df_2['salary'], 'o-')\n",
    "\n",
    "plt.xlabel('age')\n",
    "plt.ylabel('salary')\n",
    "plt.title('Зарплата по віку')\n",
    "\n",
    "plt.show()"
   ]
  },
  {
   "cell_type": "code",
   "execution_count": null,
   "id": "aa069683",
   "metadata": {},
   "outputs": [],
   "source": []
  }
 ],
 "metadata": {
  "kernelspec": {
   "display_name": "Python 3 (ipykernel)",
   "language": "python",
   "name": "python3"
  },
  "language_info": {
   "codemirror_mode": {
    "name": "ipython",
    "version": 3
   },
   "file_extension": ".py",
   "mimetype": "text/x-python",
   "name": "python",
   "nbconvert_exporter": "python",
   "pygments_lexer": "ipython3",
   "version": "3.11.0"
  }
 },
 "nbformat": 4,
 "nbformat_minor": 5
}
